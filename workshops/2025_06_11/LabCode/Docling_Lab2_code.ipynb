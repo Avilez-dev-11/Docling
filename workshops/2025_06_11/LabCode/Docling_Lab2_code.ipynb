{
  "cells": [
    {
      "cell_type": "markdown",
      "metadata": {
        "id": "nshGZ8GVNe9v"
      },
      "source": [
        "# Enhanced Chunking and Vectorization with Docling\n"
      ]
    },
    {
      "cell_type": "markdown",
      "metadata": {
        "id": "jab6mCqrNgDU"
      },
      "source": [
        "## Lab 2: Advanced Document Processing\n",
        "\n",
        "In our previous workshop, you learned how to convert documents with Docling. Now, we'll tackle the next critical challenge: **how to intelligently chunk those documents for optimal retrieval in AI systems**. This is where many RAG implementations succeed or fail."
      ]
    },
    {
      "cell_type": "markdown",
      "metadata": {
        "id": "Q53hy7sRNhv_"
      },
      "source": [
        "## Learning Objectives\n",
        "\n",
        "By the end of this lab, you will:\n",
        "- **Understand** why chunking is critical for RAG system performance\n",
        "- **Compare** different chunking strategies and their trade-offs\n",
        "- **Implement** hierarchical and hybrid chunking with Docling\n",
        "- **Evaluate** chunk quality using practical metrics\n",
        "- **Choose** the right chunking approach for your use case"
      ]
    },
    {
      "cell_type": "markdown",
      "metadata": {
        "id": "vKYHSl7tNjjN"
      },
      "source": [
        "## Prerequisites\n",
        "\n",
        "- Python 3.10, 3.11, or 3.12\n",
        "- Basic understanding of RAG (Retrieval Augmented Generation) concepts\n",
        "- Familiarity with text processing and embeddings"
      ]
    },
    {
      "cell_type": "markdown",
      "metadata": {
        "id": "70r3W375NoEZ"
      },
      "source": [
        "## What You'll Build\n",
        "\n",
        "We'll create a complete document chunking pipeline that:\n",
        "1. Processes PDF documents using Docling's advanced capabilities\n",
        "2. Applies multiple chunking strategies with clear comparisons\n",
        "3. Visualizes chunk characteristics for quality assessment\n",
        "4. Provides actionable guidance for strategy selection\n",
        "5. Prepares chunks for embedding and vector storage\n",
        "\n",
        "More importantly, you'll gain the intuition to make informed chunking decisions for your own projects."
      ]
    },
    {
      "cell_type": "markdown",
      "metadata": {
        "id": "vjnLwuCKN08G"
      },
      "source": [
        "---"
      ]
    },
    {
      "cell_type": "markdown",
      "metadata": {
        "id": "bgaslaURN1tf"
      },
      "source": [
        "## Understanding Retrieval Augmented Generation (RAG) and Chunking's Critical Role\n"
      ]
    },
    {
      "cell_type": "markdown",
      "metadata": {
        "id": "PWPbtJGrdKl6"
      },
      "source": [
        "### What is RAG and Why Does It Matter?\n",
        "\n",
        "[Retrieval-augmented generation (RAG)](https://www.ibm.com/think/topics/retrieval-augmented-generation) has emerged as the dominant pattern for building AI applications that need access to private or recent data. Unlike pure language models that rely solely on training data, RAG systems dynamically retrieve relevant information to generate accurate, grounded responses.\n",
        "\n",
        "Think of RAG as giving an AI assistant access to a perfectly organized library. The quality of the organization (chunking) directly determines how well the assistant can find and use information.\n"
      ]
    },
    {
      "cell_type": "markdown",
      "metadata": {
        "id": "cM3yXSVHdlHe"
      },
      "source": [
        "### The RAG Pipeline: Where Chunking Fits\n",
        "\n",
        "The complete RAG process involves six interconnected steps:\n",
        "\n",
        "1. **Document Processing**: Converting raw documents (PDFs, Word, etc.) into structured formats\n",
        "2. **Chunking**: Breaking documents into semantically meaningful pieces ← **Today's focus**\n",
        "3. **Vectorization**: Converting text chunks into numerical embeddings\n",
        "4. **Indexing**: Storing vectors in a specialized database for similarity search\n",
        "5. **Retrieval**: Finding the most relevant chunks for a given query\n",
        "6. **Generation**: Using retrieved context to generate accurate, grounded responses"
      ]
    },
    {
      "cell_type": "markdown",
      "metadata": {
        "id": "TBAbXNCDdtyd"
      },
      "source": [
        "### Why is Chunking Critical?\n",
        "\n",
        "Chunking is arguably the most important yet underappreciated step in the RAG pipeline. Here's why:\n",
        "\n",
        "#### 1. **Context Window Constraints**\n",
        "Modern embedding models have strict token limits:\n",
        "- IBM Granite embeddings: 512 tokens\n",
        "- Cohere embed-v3: 512 tokens\n",
        "- OpenAI's text-embedding-3-small: 8,191 tokens\n",
        "\n",
        "Chunks must fit within these limits while preserving meaning.\n",
        "\n",
        "#### 2. **Retrieval Precision vs. Recall Trade-off**\n",
        "- **Small chunks**: High precision (exact matches) but may miss context\n",
        "- **Large chunks**: Better context but lower precision (irrelevant content)\n",
        "\n",
        "Finding the sweet spot is crucial for system performance.\n",
        "\n",
        "#### 3. **Semantic Coherence**\n",
        "Well-designed chunks maintain topical unity. A chunk about \"quarterly revenue\" shouldn't suddenly switch to \"employee benefits\" mid-way through.\n",
        "\n",
        "#### 4. **Cost and Performance**\n",
        "- Smaller chunks = More embeddings = Higher costs\n",
        "- Larger chunks = Fewer embeddings but potentially worse retrieval\n",
        "\n",
        "#### 5. **User Experience**\n",
        "The quality of retrieved chunks directly impacts the relevance and accuracy of generated responses. Poor chunking leads to hallucinations, missing information, or irrelevant answers.\n"
      ]
    },
    {
      "cell_type": "markdown",
      "metadata": {
        "id": "VNj6oJ9ceDOz"
      },
      "source": [
        "### The Chunking Challenge: A Practical Example\n",
        "\n",
        "Let's illustrate why naive chunking fails and intelligent chunking succeeds:\n",
        "\n",
        "**Bad Chunking Example (Fixed-size splitting):**\n",
        "```\n",
        "Chunk 1: \"The company's revenue increased by 25% in Q3\"\n",
        "Chunk 2: \"2024 compared to Q3 2023. This growth was driven by...\"\n",
        "```\n",
        "**Problems**:\n",
        "- Critical context (which year?) is split across chunks\n",
        "- A search for \"2024 revenue growth\" might miss Chunk 1 entirely\n",
        "- The model lacks complete information to answer accurately\n",
        "\n",
        "**Good Chunking Example (Semantic-aware):**\n",
        "```\n",
        "Chunk 1: \"Financial Performance Q3 2024: The company's revenue increased by\n",
        "          25% in Q3 2024 compared to Q3 2023, reaching $1.2B in total sales.\"\n",
        "          \n",
        "Chunk 2: \"Growth Drivers: This exceptional growth was driven by strong\n",
        "          performance in the enterprise segment, with cloud services\n",
        "          contributing 60% of the increase...\"\n",
        "```\n",
        "\n",
        "**Benefits**:\n",
        "- Complete, self-contained thoughts\n",
        "- Clear topical boundaries\n",
        "- Sufficient context for accurate retrieval\n",
        "- Natural section breaks preserved"
      ]
    },
    {
      "cell_type": "markdown",
      "metadata": {
        "id": "-Z4EG67feVhd"
      },
      "source": [
        "### What Makes a Good Chunk?\n",
        "\n",
        "Before we dive into implementation, let's establish the characteristics of effective chunks:\n",
        "\n",
        "1. **Self-contained**: Can be understood without external context\n",
        "2. **Topically coherent**: Focuses on a single topic or concept\n",
        "3. **Appropriately sized**: Fits within model limits with headroom\n",
        "4. **Contextually rich**: Includes necessary metadata (source, section, page)\n",
        "5. **Semantically complete**: Doesn't cut off mid-sentence or mid-thought\n",
        "\n",
        "Now, let's use Docling's capabilities build a system that creates these ideal chunks automatically!"
      ]
    },
    {
      "cell_type": "markdown",
      "metadata": {
        "id": "YT5y_QW8ebsn"
      },
      "source": [
        "## Installation and Setup\n",
        "\n",
        "Let's begin by setting up our environment with all necessary dependencies. We'll install not just Docling, but also the tools needed for chunking, vectorization, and evaluation.\n"
      ]
    },
    {
      "cell_type": "code",
      "execution_count": 1,
      "metadata": {
        "id": "UEoM938B_JRH"
      },
      "outputs": [],
      "source": [
        "import sys\n",
        "assert sys.version_info >= (3, 10) and sys.version_info < (3, 13), \"Use Python 3.10, 3.11, or 3.12 to run this notebook.\""
      ]
    },
    {
      "cell_type": "code",
      "execution_count": 2,
      "metadata": {
        "colab": {
          "base_uri": "https://localhost:8080/"
        },
        "collapsed": true,
        "id": "BfMWUUSs_JRI",
        "jupyter": {
          "outputs_hidden": false
        },
        "outputId": "2a03c19a-a72a-44dd-c2ba-64e6c25a8681",
        "pycharm": {
          "name": "#%%\n"
        }
      },
      "outputs": [
        {
          "name": "stdout",
          "output_type": "stream",
          "text": [
            "Requirement already satisfied: transformers in /Users/dol/codes/docling-workshops/venv/lib/python3.12/site-packages (4.52.4)\n",
            "Requirement already satisfied: pillow in /Users/dol/codes/docling-workshops/venv/lib/python3.12/site-packages (11.2.1)\n",
            "Requirement already satisfied: docling in /Users/dol/codes/docling-workshops/venv/lib/python3.12/site-packages (2.36.1)\n",
            "Requirement already satisfied: matplotlib in /Users/dol/codes/docling-workshops/venv/lib/python3.12/site-packages (3.10.3)\n",
            "Requirement already satisfied: filelock in /Users/dol/codes/docling-workshops/venv/lib/python3.12/site-packages (from transformers) (3.18.0)\n",
            "Requirement already satisfied: huggingface-hub<1.0,>=0.30.0 in /Users/dol/codes/docling-workshops/venv/lib/python3.12/site-packages (from transformers) (0.32.5)\n",
            "Requirement already satisfied: numpy>=1.17 in /Users/dol/codes/docling-workshops/venv/lib/python3.12/site-packages (from transformers) (2.3.0)\n",
            "Requirement already satisfied: packaging>=20.0 in /Users/dol/codes/docling-workshops/venv/lib/python3.12/site-packages (from transformers) (24.2)\n",
            "Requirement already satisfied: pyyaml>=5.1 in /Users/dol/codes/docling-workshops/venv/lib/python3.12/site-packages (from transformers) (6.0.2)\n",
            "Requirement already satisfied: regex!=2019.12.17 in /Users/dol/codes/docling-workshops/venv/lib/python3.12/site-packages (from transformers) (2024.11.6)\n",
            "Requirement already satisfied: requests in /Users/dol/codes/docling-workshops/venv/lib/python3.12/site-packages (from transformers) (2.32.4)\n",
            "Requirement already satisfied: tokenizers<0.22,>=0.21 in /Users/dol/codes/docling-workshops/venv/lib/python3.12/site-packages (from transformers) (0.21.1)\n",
            "Requirement already satisfied: safetensors>=0.4.3 in /Users/dol/codes/docling-workshops/venv/lib/python3.12/site-packages (from transformers) (0.5.3)\n",
            "Requirement already satisfied: tqdm>=4.27 in /Users/dol/codes/docling-workshops/venv/lib/python3.12/site-packages (from transformers) (4.67.1)\n",
            "Requirement already satisfied: pydantic<3.0.0,>=2.0.0 in /Users/dol/codes/docling-workshops/venv/lib/python3.12/site-packages (from docling) (2.11.5)\n",
            "Requirement already satisfied: docling-core<3.0.0,>=2.29.0 in /Users/dol/codes/docling-workshops/venv/lib/python3.12/site-packages (from docling-core[chunking]<3.0.0,>=2.29.0->docling) (2.34.2)\n",
            "Requirement already satisfied: docling-ibm-models<4.0.0,>=3.4.4 in /Users/dol/codes/docling-workshops/venv/lib/python3.12/site-packages (from docling) (3.4.4)\n",
            "Requirement already satisfied: docling-parse<5.0.0,>=4.0.0 in /Users/dol/codes/docling-workshops/venv/lib/python3.12/site-packages (from docling) (4.0.4)\n",
            "Requirement already satisfied: filetype<2.0.0,>=1.2.0 in /Users/dol/codes/docling-workshops/venv/lib/python3.12/site-packages (from docling) (1.2.0)\n",
            "Requirement already satisfied: pypdfium2<5.0.0,>=4.30.0 in /Users/dol/codes/docling-workshops/venv/lib/python3.12/site-packages (from docling) (4.30.1)\n",
            "Requirement already satisfied: pydantic-settings<3.0.0,>=2.3.0 in /Users/dol/codes/docling-workshops/venv/lib/python3.12/site-packages (from docling) (2.9.1)\n",
            "Requirement already satisfied: easyocr<2.0,>=1.7 in /Users/dol/codes/docling-workshops/venv/lib/python3.12/site-packages (from docling) (1.7.2)\n",
            "Requirement already satisfied: certifi>=2024.7.4 in /Users/dol/codes/docling-workshops/venv/lib/python3.12/site-packages (from docling) (2025.4.26)\n",
            "Requirement already satisfied: rtree<2.0.0,>=1.3.0 in /Users/dol/codes/docling-workshops/venv/lib/python3.12/site-packages (from docling) (1.4.0)\n",
            "Requirement already satisfied: typer<0.17.0,>=0.12.5 in /Users/dol/codes/docling-workshops/venv/lib/python3.12/site-packages (from docling) (0.16.0)\n",
            "Requirement already satisfied: python-docx<2.0.0,>=1.1.2 in /Users/dol/codes/docling-workshops/venv/lib/python3.12/site-packages (from docling) (1.1.2)\n",
            "Requirement already satisfied: python-pptx<2.0.0,>=1.0.2 in /Users/dol/codes/docling-workshops/venv/lib/python3.12/site-packages (from docling) (1.0.2)\n",
            "Requirement already satisfied: beautifulsoup4<5.0.0,>=4.12.3 in /Users/dol/codes/docling-workshops/venv/lib/python3.12/site-packages (from docling) (4.13.4)\n",
            "Requirement already satisfied: pandas<3.0.0,>=2.1.4 in /Users/dol/codes/docling-workshops/venv/lib/python3.12/site-packages (from docling) (2.3.0)\n",
            "Requirement already satisfied: marko<3.0.0,>=2.1.2 in /Users/dol/codes/docling-workshops/venv/lib/python3.12/site-packages (from docling) (2.1.3)\n",
            "Requirement already satisfied: openpyxl<4.0.0,>=3.1.5 in /Users/dol/codes/docling-workshops/venv/lib/python3.12/site-packages (from docling) (3.1.5)\n",
            "Requirement already satisfied: lxml<6.0.0,>=4.0.0 in /Users/dol/codes/docling-workshops/venv/lib/python3.12/site-packages (from docling) (5.4.0)\n",
            "Requirement already satisfied: pluggy<2.0.0,>=1.0.0 in /Users/dol/codes/docling-workshops/venv/lib/python3.12/site-packages (from docling) (1.6.0)\n",
            "Requirement already satisfied: pylatexenc<3.0,>=2.10 in /Users/dol/codes/docling-workshops/venv/lib/python3.12/site-packages (from docling) (2.10)\n",
            "Requirement already satisfied: scipy<2.0.0,>=1.6.0 in /Users/dol/codes/docling-workshops/venv/lib/python3.12/site-packages (from docling) (1.15.3)\n",
            "Requirement already satisfied: contourpy>=1.0.1 in /Users/dol/codes/docling-workshops/venv/lib/python3.12/site-packages (from matplotlib) (1.3.2)\n",
            "Requirement already satisfied: cycler>=0.10 in /Users/dol/codes/docling-workshops/venv/lib/python3.12/site-packages (from matplotlib) (0.12.1)\n",
            "Requirement already satisfied: fonttools>=4.22.0 in /Users/dol/codes/docling-workshops/venv/lib/python3.12/site-packages (from matplotlib) (4.58.2)\n",
            "Requirement already satisfied: kiwisolver>=1.3.1 in /Users/dol/codes/docling-workshops/venv/lib/python3.12/site-packages (from matplotlib) (1.4.8)\n",
            "Requirement already satisfied: pyparsing>=2.3.1 in /Users/dol/codes/docling-workshops/venv/lib/python3.12/site-packages (from matplotlib) (3.2.3)\n",
            "Requirement already satisfied: python-dateutil>=2.7 in /Users/dol/codes/docling-workshops/venv/lib/python3.12/site-packages (from matplotlib) (2.9.0.post0)\n",
            "Requirement already satisfied: soupsieve>1.2 in /Users/dol/codes/docling-workshops/venv/lib/python3.12/site-packages (from beautifulsoup4<5.0.0,>=4.12.3->docling) (2.7)\n",
            "Requirement already satisfied: typing-extensions>=4.0.0 in /Users/dol/codes/docling-workshops/venv/lib/python3.12/site-packages (from beautifulsoup4<5.0.0,>=4.12.3->docling) (4.14.0)\n",
            "Requirement already satisfied: jsonschema<5.0.0,>=4.16.0 in /Users/dol/codes/docling-workshops/venv/lib/python3.12/site-packages (from docling-core<3.0.0,>=2.29.0->docling-core[chunking]<3.0.0,>=2.29.0->docling) (4.24.0)\n",
            "Requirement already satisfied: jsonref<2.0.0,>=1.1.0 in /Users/dol/codes/docling-workshops/venv/lib/python3.12/site-packages (from docling-core<3.0.0,>=2.29.0->docling-core[chunking]<3.0.0,>=2.29.0->docling) (1.1.0)\n",
            "Requirement already satisfied: tabulate<0.10.0,>=0.9.0 in /Users/dol/codes/docling-workshops/venv/lib/python3.12/site-packages (from docling-core<3.0.0,>=2.29.0->docling-core[chunking]<3.0.0,>=2.29.0->docling) (0.9.0)\n",
            "Requirement already satisfied: latex2mathml<4.0.0,>=3.77.0 in /Users/dol/codes/docling-workshops/venv/lib/python3.12/site-packages (from docling-core<3.0.0,>=2.29.0->docling-core[chunking]<3.0.0,>=2.29.0->docling) (3.78.0)\n",
            "Requirement already satisfied: semchunk<3.0.0,>=2.2.0 in /Users/dol/codes/docling-workshops/venv/lib/python3.12/site-packages (from docling-core[chunking]<3.0.0,>=2.29.0->docling) (2.2.2)\n",
            "Requirement already satisfied: torch<3.0.0,>=2.2.2 in /Users/dol/codes/docling-workshops/venv/lib/python3.12/site-packages (from docling-ibm-models<4.0.0,>=3.4.4->docling) (2.7.1)\n",
            "Requirement already satisfied: torchvision<1,>=0 in /Users/dol/codes/docling-workshops/venv/lib/python3.12/site-packages (from docling-ibm-models<4.0.0,>=3.4.4->docling) (0.22.1)\n",
            "Requirement already satisfied: jsonlines<4.0.0,>=3.1.0 in /Users/dol/codes/docling-workshops/venv/lib/python3.12/site-packages (from docling-ibm-models<4.0.0,>=3.4.4->docling) (3.1.0)\n",
            "Requirement already satisfied: opencv-python-headless<5.0.0.0,>=4.6.0.66 in /Users/dol/codes/docling-workshops/venv/lib/python3.12/site-packages (from docling-ibm-models<4.0.0,>=3.4.4->docling) (4.11.0.86)\n",
            "Requirement already satisfied: scikit-image in /Users/dol/codes/docling-workshops/venv/lib/python3.12/site-packages (from easyocr<2.0,>=1.7->docling) (0.25.2)\n",
            "Requirement already satisfied: python-bidi in /Users/dol/codes/docling-workshops/venv/lib/python3.12/site-packages (from easyocr<2.0,>=1.7->docling) (0.6.6)\n",
            "Requirement already satisfied: Shapely in /Users/dol/codes/docling-workshops/venv/lib/python3.12/site-packages (from easyocr<2.0,>=1.7->docling) (2.1.1)\n",
            "Requirement already satisfied: pyclipper in /Users/dol/codes/docling-workshops/venv/lib/python3.12/site-packages (from easyocr<2.0,>=1.7->docling) (1.3.0.post6)\n",
            "Requirement already satisfied: ninja in /Users/dol/codes/docling-workshops/venv/lib/python3.12/site-packages (from easyocr<2.0,>=1.7->docling) (1.11.1.4)\n",
            "Requirement already satisfied: fsspec>=2023.5.0 in /Users/dol/codes/docling-workshops/venv/lib/python3.12/site-packages (from huggingface-hub<1.0,>=0.30.0->transformers) (2025.3.0)\n",
            "Requirement already satisfied: hf-xet<2.0.0,>=1.1.2 in /Users/dol/codes/docling-workshops/venv/lib/python3.12/site-packages (from huggingface-hub<1.0,>=0.30.0->transformers) (1.1.3)\n",
            "Requirement already satisfied: et-xmlfile in /Users/dol/codes/docling-workshops/venv/lib/python3.12/site-packages (from openpyxl<4.0.0,>=3.1.5->docling) (2.0.0)\n",
            "Requirement already satisfied: pytz>=2020.1 in /Users/dol/codes/docling-workshops/venv/lib/python3.12/site-packages (from pandas<3.0.0,>=2.1.4->docling) (2025.2)\n",
            "Requirement already satisfied: tzdata>=2022.7 in /Users/dol/codes/docling-workshops/venv/lib/python3.12/site-packages (from pandas<3.0.0,>=2.1.4->docling) (2025.2)\n",
            "Requirement already satisfied: annotated-types>=0.6.0 in /Users/dol/codes/docling-workshops/venv/lib/python3.12/site-packages (from pydantic<3.0.0,>=2.0.0->docling) (0.7.0)\n",
            "Requirement already satisfied: pydantic-core==2.33.2 in /Users/dol/codes/docling-workshops/venv/lib/python3.12/site-packages (from pydantic<3.0.0,>=2.0.0->docling) (2.33.2)\n",
            "Requirement already satisfied: typing-inspection>=0.4.0 in /Users/dol/codes/docling-workshops/venv/lib/python3.12/site-packages (from pydantic<3.0.0,>=2.0.0->docling) (0.4.1)\n",
            "Requirement already satisfied: python-dotenv>=0.21.0 in /Users/dol/codes/docling-workshops/venv/lib/python3.12/site-packages (from pydantic-settings<3.0.0,>=2.3.0->docling) (1.1.0)\n",
            "Requirement already satisfied: six>=1.5 in /Users/dol/codes/docling-workshops/venv/lib/python3.12/site-packages (from python-dateutil>=2.7->matplotlib) (1.17.0)\n",
            "Requirement already satisfied: XlsxWriter>=0.5.7 in /Users/dol/codes/docling-workshops/venv/lib/python3.12/site-packages (from python-pptx<2.0.0,>=1.0.2->docling) (3.2.3)\n",
            "Requirement already satisfied: charset_normalizer<4,>=2 in /Users/dol/codes/docling-workshops/venv/lib/python3.12/site-packages (from requests->transformers) (3.4.2)\n",
            "Requirement already satisfied: idna<4,>=2.5 in /Users/dol/codes/docling-workshops/venv/lib/python3.12/site-packages (from requests->transformers) (3.10)\n",
            "Requirement already satisfied: urllib3<3,>=1.21.1 in /Users/dol/codes/docling-workshops/venv/lib/python3.12/site-packages (from requests->transformers) (2.4.0)\n",
            "Requirement already satisfied: click>=8.0.0 in /Users/dol/codes/docling-workshops/venv/lib/python3.12/site-packages (from typer<0.17.0,>=0.12.5->docling) (8.2.1)\n",
            "Requirement already satisfied: shellingham>=1.3.0 in /Users/dol/codes/docling-workshops/venv/lib/python3.12/site-packages (from typer<0.17.0,>=0.12.5->docling) (1.5.4)\n",
            "Requirement already satisfied: rich>=10.11.0 in /Users/dol/codes/docling-workshops/venv/lib/python3.12/site-packages (from typer<0.17.0,>=0.12.5->docling) (14.0.0)\n",
            "Requirement already satisfied: attrs>=19.2.0 in /Users/dol/codes/docling-workshops/venv/lib/python3.12/site-packages (from jsonlines<4.0.0,>=3.1.0->docling-ibm-models<4.0.0,>=3.4.4->docling) (25.3.0)\n",
            "Requirement already satisfied: jsonschema-specifications>=2023.03.6 in /Users/dol/codes/docling-workshops/venv/lib/python3.12/site-packages (from jsonschema<5.0.0,>=4.16.0->docling-core<3.0.0,>=2.29.0->docling-core[chunking]<3.0.0,>=2.29.0->docling) (2025.4.1)\n",
            "Requirement already satisfied: referencing>=0.28.4 in /Users/dol/codes/docling-workshops/venv/lib/python3.12/site-packages (from jsonschema<5.0.0,>=4.16.0->docling-core<3.0.0,>=2.29.0->docling-core[chunking]<3.0.0,>=2.29.0->docling) (0.36.2)\n",
            "Requirement already satisfied: rpds-py>=0.7.1 in /Users/dol/codes/docling-workshops/venv/lib/python3.12/site-packages (from jsonschema<5.0.0,>=4.16.0->docling-core<3.0.0,>=2.29.0->docling-core[chunking]<3.0.0,>=2.29.0->docling) (0.25.1)\n",
            "Requirement already satisfied: markdown-it-py>=2.2.0 in /Users/dol/codes/docling-workshops/venv/lib/python3.12/site-packages (from rich>=10.11.0->typer<0.17.0,>=0.12.5->docling) (3.0.0)\n",
            "Requirement already satisfied: pygments<3.0.0,>=2.13.0 in /Users/dol/codes/docling-workshops/venv/lib/python3.12/site-packages (from rich>=10.11.0->typer<0.17.0,>=0.12.5->docling) (2.19.1)\n",
            "Requirement already satisfied: mpire[dill] in /Users/dol/codes/docling-workshops/venv/lib/python3.12/site-packages (from semchunk<3.0.0,>=2.2.0->docling-core[chunking]<3.0.0,>=2.29.0->docling) (2.10.2)\n",
            "Requirement already satisfied: setuptools in /Users/dol/codes/docling-workshops/venv/lib/python3.12/site-packages (from torch<3.0.0,>=2.2.2->docling-ibm-models<4.0.0,>=3.4.4->docling) (80.9.0)\n",
            "Requirement already satisfied: sympy>=1.13.3 in /Users/dol/codes/docling-workshops/venv/lib/python3.12/site-packages (from torch<3.0.0,>=2.2.2->docling-ibm-models<4.0.0,>=3.4.4->docling) (1.14.0)\n",
            "Requirement already satisfied: networkx in /Users/dol/codes/docling-workshops/venv/lib/python3.12/site-packages (from torch<3.0.0,>=2.2.2->docling-ibm-models<4.0.0,>=3.4.4->docling) (3.5)\n",
            "Requirement already satisfied: jinja2 in /Users/dol/codes/docling-workshops/venv/lib/python3.12/site-packages (from torch<3.0.0,>=2.2.2->docling-ibm-models<4.0.0,>=3.4.4->docling) (3.1.6)\n",
            "Requirement already satisfied: imageio!=2.35.0,>=2.33 in /Users/dol/codes/docling-workshops/venv/lib/python3.12/site-packages (from scikit-image->easyocr<2.0,>=1.7->docling) (2.37.0)\n",
            "Requirement already satisfied: tifffile>=2022.8.12 in /Users/dol/codes/docling-workshops/venv/lib/python3.12/site-packages (from scikit-image->easyocr<2.0,>=1.7->docling) (2025.6.1)\n",
            "Requirement already satisfied: lazy-loader>=0.4 in /Users/dol/codes/docling-workshops/venv/lib/python3.12/site-packages (from scikit-image->easyocr<2.0,>=1.7->docling) (0.4)\n",
            "Requirement already satisfied: mdurl~=0.1 in /Users/dol/codes/docling-workshops/venv/lib/python3.12/site-packages (from markdown-it-py>=2.2.0->rich>=10.11.0->typer<0.17.0,>=0.12.5->docling) (0.1.2)\n",
            "Requirement already satisfied: mpmath<1.4,>=1.1.0 in /Users/dol/codes/docling-workshops/venv/lib/python3.12/site-packages (from sympy>=1.13.3->torch<3.0.0,>=2.2.2->docling-ibm-models<4.0.0,>=3.4.4->docling) (1.3.0)\n",
            "Requirement already satisfied: MarkupSafe>=2.0 in /Users/dol/codes/docling-workshops/venv/lib/python3.12/site-packages (from jinja2->torch<3.0.0,>=2.2.2->docling-ibm-models<4.0.0,>=3.4.4->docling) (3.0.2)\n",
            "Requirement already satisfied: multiprocess>=0.70.15 in /Users/dol/codes/docling-workshops/venv/lib/python3.12/site-packages (from mpire[dill]->semchunk<3.0.0,>=2.2.0->docling-core[chunking]<3.0.0,>=2.29.0->docling) (0.70.16)\n",
            "Requirement already satisfied: dill>=0.3.8 in /Users/dol/codes/docling-workshops/venv/lib/python3.12/site-packages (from multiprocess>=0.70.15->mpire[dill]->semchunk<3.0.0,>=2.2.0->docling-core[chunking]<3.0.0,>=2.29.0->docling) (0.3.8)\n",
            "\n",
            "\u001b[1m[\u001b[0m\u001b[34;49mnotice\u001b[0m\u001b[1;39;49m]\u001b[0m\u001b[39;49m A new release of pip is available: \u001b[0m\u001b[31;49m24.2\u001b[0m\u001b[39;49m -> \u001b[0m\u001b[32;49m25.1.1\u001b[0m\n",
            "\u001b[1m[\u001b[0m\u001b[34;49mnotice\u001b[0m\u001b[1;39;49m]\u001b[0m\u001b[39;49m To update, run: \u001b[0m\u001b[32;49mpip install --upgrade pip\u001b[0m\n"
          ]
        }
      ],
      "source": [
        "! pip install \\\n",
        "    transformers \\\n",
        "    pillow \\\n",
        "    docling \\\n",
        "    matplotlib"
      ]
    },
    {
      "cell_type": "markdown",
      "metadata": {
        "id": "fKnuBqIBekTi"
      },
      "source": [
        "Now let's import the essential modules:"
      ]
    },
    {
      "cell_type": "code",
      "execution_count": 3,
      "metadata": {
        "id": "xZxWTGAFNIxK"
      },
      "outputs": [],
      "source": [
        "import sys\n",
        "import numpy as np\n",
        "import matplotlib.pyplot as plt\n",
        "from typing import Iterator"
      ]
    },
    {
      "cell_type": "markdown",
      "metadata": {
        "id": "inXV8p7EIvag"
      },
      "source": [
        "### Logging"
      ]
    },
    {
      "cell_type": "markdown",
      "metadata": {
        "id": "l0jUQOfNIvag"
      },
      "source": [
        "To see detailed information about the document processing and chunking operations, we'll configure INFO log level.\n",
        "\n",
        "NOTE: It is okay to skip running this cell if you prefer less verbose output."
      ]
    },
    {
      "cell_type": "code",
      "execution_count": 4,
      "metadata": {
        "id": "dQV4OW29Ivag"
      },
      "outputs": [],
      "source": [
        "import logging\n",
        "\n",
        "logging.basicConfig(level=logging.INFO)"
      ]
    },
    {
      "cell_type": "markdown",
      "metadata": {
        "id": "D49OmkCJKEEc"
      },
      "source": [
        "## Document Processing with Docling\n",
        "\n",
        "### Understanding Document Structure\n",
        "\n",
        "Before we can chunk intelligently, we need to understand how Docling preserves document structure. This structural awareness is what separates naive text splitting from semantic chunking.\n",
        "\n",
        "Let's start by processing a real document and exploring its structure:"
      ]
    },
    {
      "cell_type": "code",
      "execution_count": 5,
      "metadata": {},
      "outputs": [],
      "source": [
        "import os\n",
        "os.environ[\"HF_HUB_OFFLINE\"] = \"1\""
      ]
    },
    {
      "cell_type": "code",
      "execution_count": 6,
      "metadata": {
        "colab": {
          "base_uri": "https://localhost:8080/"
        },
        "id": "Xow-PjeOKJA2",
        "outputId": "f2e8dfe7-3f17-4163-bfcc-3d69b42fcac0"
      },
      "outputs": [
        {
          "name": "stderr",
          "output_type": "stream",
          "text": [
            "/Users/dol/codes/docling-workshops/venv/lib/python3.12/site-packages/tqdm/auto.py:21: TqdmWarning: IProgress not found. Please update jupyter and ipywidgets. See https://ipywidgets.readthedocs.io/en/stable/user_install.html\n",
            "  from .autonotebook import tqdm as notebook_tqdm\n",
            "INFO:docling.document_converter:Going to convert document batch...\n",
            "INFO:docling.document_converter:Initializing pipeline for StandardPdfPipeline with options hash 3e036157fb20985f12804535c7dd1f2d\n",
            "INFO:docling.models.factories.base_factory:Loading plugin 'docling_defaults'\n",
            "INFO:docling.models.factories:Registered ocr engines: ['easyocr', 'ocrmac', 'rapidocr', 'tesserocr', 'tesseract']\n",
            "INFO:docling.utils.accelerator_utils:Accelerator device: 'mps'\n",
            "INFO:docling.utils.accelerator_utils:Accelerator device: 'mps'\n",
            "INFO:docling.models.factories.base_factory:Loading plugin 'docling_defaults'\n",
            "INFO:docling.models.factories:Registered picture descriptions: ['vlm', 'api']\n",
            "INFO:docling.pipeline.base_pipeline:Processing document AR_2020_WEB2.pdf\n",
            "INFO:docling.document_converter:Finished converting document AR_2020_WEB2.pdf in 18.57 sec.\n"
          ]
        }
      ],
      "source": [
        "from docling.document_converter import DocumentConverter, PdfFormatOption\n",
        "from docling.datamodel.base_models import InputFormat\n",
        "from docling.datamodel.pipeline_options import PdfPipelineOptions\n",
        "\n",
        "# Configure pipeline to extract both text and images\n",
        "pdf_pipeline_options = PdfPipelineOptions(\n",
        "    do_ocr=False,   # Skip OCR for faster processing (enable for scanned docs)\n",
        "    generate_picture_images=True,   # Extract images for multi-modal applications\n",
        ")\n",
        "format_options = {\n",
        "    InputFormat.PDF: PdfFormatOption(pipeline_options=pdf_pipeline_options),\n",
        "}\n",
        "converter = DocumentConverter(format_options=format_options)\n",
        "\n",
        "# Process a sample document\n",
        "sample_doc_url = \"https://midwestfoodbank.org/images/AR_2020_WEB2.pdf\"\n",
        "result = converter.convert(sample_doc_url)\n",
        "doc = result.document"
      ]
    },
    {
      "cell_type": "markdown",
      "metadata": {
        "id": "mRRVfbMWiLKy"
      },
      "source": [
        "**Why this document?**\n",
        "We're using an annual report because it contains:\n",
        "- Hierarchical sections (perfect for testing structural chunking)\n",
        "- Mixed content types (text, tables, images)\n",
        "- Varying paragraph lengths (tests size-aware chunking)\n",
        "- Real-world complexity (not a toy example)"
      ]
    },
    {
      "cell_type": "markdown",
      "metadata": {
        "id": "DGKctBMFiSIU"
      },
      "source": [
        "### The Importance of Structure Preservation\n",
        "\n",
        "Docling doesn't just extract text; it preserves the document's logical structure. This includes:\n",
        "- **Headings and subheadings**: Natural chunk boundaries\n",
        "- **Paragraphs**: Semantic units of thought\n",
        "- **Lists and tables**: Special handling required\n",
        "- **Captions and references**: Important context\n",
        "\n",
        "This structural information is very important for intelligent chunking"
      ]
    },
    {
      "cell_type": "markdown",
      "metadata": {
        "id": "mP_mj4dBiWFW"
      },
      "source": [
        "---"
      ]
    },
    {
      "cell_type": "markdown",
      "metadata": {
        "id": "7dmNeNMIInSH"
      },
      "source": [
        "## Chunk Visualization: See What You're Building\n",
        "\n",
        "Before we dive into chunking strategies, let's build a powerful visualization tool. Being able to \"see\" your chunks is invaluable for understanding and debugging.\n"
      ]
    },
    {
      "cell_type": "markdown",
      "metadata": {
        "id": "eY1x4I-nibza"
      },
      "source": [
        "### Building a Comprehensive Chunk Analyzer"
      ]
    },
    {
      "cell_type": "code",
      "execution_count": 7,
      "metadata": {
        "id": "ewCZQfo0IteY"
      },
      "outputs": [],
      "source": [
        "from docling_core.transforms.chunker.tokenizer.base import BaseTokenizer\n",
        "from docling.chunking import BaseChunker, BaseChunk\n",
        "from docling.datamodel.document import DoclingDocument\n",
        "\n",
        "def visualize_chunks(chunks: list[BaseChunk], *, chunker: BaseChunker, tokenizer: BaseTokenizer, title=\"Document Chunks\"):\n",
        "    \"\"\"Visualize chunk sizes and distribution in tokens.\n",
        "    \"\"\"\n",
        "    # Extract token counts for each chunk\n",
        "    token_counts = [tokenizer.count_tokens(chunker.contextualize(chunk=chunk)) for chunk in chunks]\n",
        "\n",
        "    # Create histogram with all annotations in one go\n",
        "    plt.figure(figsize=(10, 6))\n",
        "\n",
        "    # Create the histogram\n",
        "    plt.hist(token_counts, bins=20, alpha=0.7, color='skyblue')\n",
        "\n",
        "    # Add statistics line and annotations\n",
        "    avg_tokens = np.mean(token_counts)\n",
        "    plt.axvline(avg_tokens, color='red', linestyle='--', label=f'Average: {avg_tokens:.1f}')\n",
        "\n",
        "    # Add labels and formatting\n",
        "    plt.title(title)\n",
        "    plt.xlabel('Chunk Size (tokens)')\n",
        "    plt.ylabel('Frequency')\n",
        "    plt.grid(axis='y', alpha=0.75)\n",
        "    plt.legend()\n",
        "\n",
        "    # Show the complete plot\n",
        "    plt.show()\n",
        "\n",
        "    # Print comprehensive statistics\n",
        "    print(f\"Chunk Analysis Results:\")\n",
        "    print(f\"Total chunks: {len(token_counts)}\")\n",
        "    print(f\"Average chunk size: {np.mean(token_counts):.1f} tokens\")\n",
        "    print(f\"Minimum chunk size: {min(token_counts)} tokens\")\n",
        "    print(f\"Maximum chunk size: {max(token_counts)} tokens\")\n",
        "    print(f\"Standard deviation: {np.std(token_counts):.1f} tokens\")\n",
        "\n",
        "    # Quality indicators\n",
        "    if max(token_counts) > 512:\n",
        "        print(\"Warning: Some chunks exceed 512 tokens - consider reducing chunk size\")\n",
        "    if np.std(token_counts) > 100:\n",
        "        print(\"Warning: High variance in chunk sizes - retrieval consistency may suffer\")\n",
        "\n",
        "    # Also show character length for reference\n",
        "    char_lengths = [len(chunk.text) for chunk in chunks]\n",
        "    print(f\"\\nReference - Average character length: {np.mean(char_lengths):.1f} characters\")"
      ]
    },
    {
      "cell_type": "markdown",
      "metadata": {
        "id": "qEh8rIP-I9mO"
      },
      "source": [
        "## Docling Chunking Fundamentals: Understanding the Architecture\n",
        "\n",
        "Before we explore specific strategies, let's understand Docling's chunking architecture. This knowledge will help you extend or customize chunking for your needs.\n"
      ]
    },
    {
      "cell_type": "markdown",
      "metadata": {
        "id": "wDNwHE0vJKi7"
      },
      "source": [
        "### The BaseChunker Interface\n",
        "\n",
        "Docling defines a BaseChunker interface that all chunkers must implement. This interface includes two main methods:\n",
        "\n",
        "1. `chunk(dl_doc)`: Returns an iterator of chunks for the provided document\n",
        "2. `serialize(chunk)`: Returns the serialized representation of a chunk, typically used for embedding\n",
        "\n",
        "Let's examine this interface:"
      ]
    },
    {
      "cell_type": "code",
      "execution_count": 8,
      "metadata": {
        "id": "ymJMe-hLJKEQ"
      },
      "outputs": [],
      "source": [
        "# Example of BaseChunker interface structure\n",
        "class SimpleChunker(BaseChunker):\n",
        "    \"\"\"A simple example chunker implementing the BaseChunker interface.\"\"\"\n",
        "\n",
        "    def chunk(self, dl_doc: DoclingDocument, **kwargs) -> Iterator[BaseChunk]:\n",
        "        \"\"\"Return chunks for the provided document.\"\"\"\n",
        "        # Simple implementation: one chunk per page\n",
        "        for i, page in enumerate(dl_doc.pages):\n",
        "            text = \" \".join([item.text for item in page.items if hasattr(item, \"text\")])\n",
        "            metadata = {\n",
        "                \"page\": i,\n",
        "                \"source\": dl_doc.name\n",
        "            }\n",
        "            yield BaseChunk(text=text, metadata=metadata)\n",
        "\n",
        "    def serialize(self, chunk: BaseChunk) -> str:\n",
        "        \"\"\"Serialize a chunk for embedding.\"\"\"\n",
        "        # Simple serialization: just return the text\n",
        "        return chunk.text"
      ]
    },
    {
      "cell_type": "markdown",
      "metadata": {
        "id": "dqGb2G5gjAxG"
      },
      "source": [
        "---"
      ]
    },
    {
      "cell_type": "markdown",
      "metadata": {
        "id": "CZyabMjFysjd"
      },
      "source": [
        "## Chunking Strategies Deep Dive\n",
        "\n",
        "Now let's explore Docling's built-in chunking strategies. Each has its strengths and ideal use cases.\n"
      ]
    },
    {
      "cell_type": "markdown",
      "metadata": {
        "id": "Wmv0yPhEJSyC"
      },
      "source": [
        "### Strategy 1: HierarchicalChunker - Respecting Document Structure\n",
        "\n",
        "The HierarchicalChunker preserves the natural organization of documents by following sections, subsections, and paragraphs. This is ideal for structured documents like reports, manuals, and academic papers.\n",
        "\n",
        "**When to use HierarchicalChunker:**\n",
        "- Structured documents (reports, manuals, academic papers)\n",
        "- When preserving document hierarchy is important\n",
        "- Documents with clear section breaks\n",
        "\n",
        "Avoid for: Chat logs, social media posts, unstructured text"
      ]
    },
    {
      "cell_type": "code",
      "execution_count": 9,
      "metadata": {
        "id": "SrDVxflTPG34"
      },
      "outputs": [],
      "source": [
        "# Import the tokenizer for HybridChunker\n",
        "from transformers import AutoTokenizer\n",
        "from docling_core.transforms.chunker.tokenizer.huggingface import HuggingFaceTokenizer\n",
        "from docling_core.transforms.chunker.hierarchical_chunker import HierarchicalChunker\n",
        "\n",
        "# Set up the tokenizer - using IBM Granite for this example\n",
        "embeddings_model_path = \"ibm-granite/granite-embedding-30m-english\"\n",
        "embeddings_tokenizer = HuggingFaceTokenizer(\n",
        "    tokenizer=AutoTokenizer.from_pretrained(embeddings_model_path),\n",
        ")"
      ]
    },
    {
      "cell_type": "code",
      "execution_count": 10,
      "metadata": {
        "colab": {
          "base_uri": "https://localhost:8080/",
          "height": 879
        },
        "id": "iXvpL4g3JSSq",
        "outputId": "683fe8a3-c887-46e2-e122-122570e6bb62"
      },
      "outputs": [
        {
          "name": "stderr",
          "output_type": "stream",
          "text": [
            "Token indices sequence length is longer than the specified maximum sequence length for this model (669 > 512). Running this sequence through the model will result in indexing errors\n"
          ]
        },
        {
          "name": "stdout",
          "output_type": "stream",
          "text": [
            "Generated 168 chunks with HierarchicalChunker\n"
          ]
        },
        {
          "data": {
            "image/png": "[encoded data removed]",
            "text/plain": [
              "<Figure size 1000x600 with 1 Axes>"
            ]
          },
          "metadata": {},
          "output_type": "display_data"
        },
        {
          "name": "stdout",
          "output_type": "stream",
          "text": [
            "Chunk Analysis Results:\n",
            "Total chunks: 168\n",
            "Average chunk size: 41.9 tokens\n",
            "Minimum chunk size: 5 tokens\n",
            "Maximum chunk size: 669 tokens\n",
            "Standard deviation: 56.5 tokens\n",
            "Warning: Some chunks exceed 512 tokens - consider reducing chunk size\n",
            "\n",
            "Reference - Average character length: 130.4 characters\n",
            "\n",
            "Sample Chunk Analysis:\n",
            "Text (first 200 chars): All  MFB  locations  remained  open  and  responsive  to  the  need  of  our nonprofit partners. We enacted safety protocols and reduced volunteer numbers  to  maintain  social  distancing  guidelines...\n",
            "Chunk type: DocChunk\n",
            "Document metadata available in 'meta'\n",
            "Meta preview: schema_name='docling_core.transforms.chunker.DocMeta' version='1.0.0' doc_items=[TextItem(self_ref='#/texts/5', parent=RefItem(cref='#/body'), children=[], content_layer=<ContentLayer.BODY: 'body'>, l...\n"
          ]
        }
      ],
      "source": [
        "# Create a HierarchicalChunker\n",
        "hierarchical_chunker = HierarchicalChunker()\n",
        "\n",
        "# Generate chunks\n",
        "hierarchical_chunks = list(hierarchical_chunker.chunk(doc))\n",
        "\n",
        "# Visualize the chunks\n",
        "print(f\"Generated {len(hierarchical_chunks)} chunks with HierarchicalChunker\")\n",
        "visualize_chunks(\n",
        "    chunks=hierarchical_chunks,\n",
        "    title=\"HierarchicalChunker Chunks\",\n",
        "    chunker=hierarchical_chunker,\n",
        "    tokenizer=embeddings_tokenizer,\n",
        ")\n",
        "\n",
        "# Examine chunk structure\n",
        "sample_chunk = hierarchical_chunks[2]\n",
        "print(f\"\\nSample Chunk Analysis:\")\n",
        "print(f\"Text (first 200 chars): {sample_chunk.text[:200]}...\")\n",
        "print(f\"Chunk type: {type(sample_chunk).__name__}\")\n",
        "\n",
        "# Print available metadata\n",
        "if hasattr(sample_chunk, 'dl_meta'):\n",
        "    print(\"Document metadata available in 'dl_meta'\")\n",
        "elif hasattr(sample_chunk, 'meta'):\n",
        "    print(f\"Document metadata available in 'meta'\")\n",
        "    print(f\"Meta preview: {str(sample_chunk.meta)[:200]}...\")"
      ]
    },
    {
      "cell_type": "markdown",
      "metadata": {
        "id": "w6NhNEGZMmjE"
      },
      "source": [
        "### Strategy 2: HybridChunker - Balancing Structure and Size\n",
        "\n",
        "The HybridChunker combines the best of both worlds: it starts with hierarchical chunking but then applies size-aware splitting and merging. This ensures chunks are neither too large nor too small.\n",
        "\n",
        "**When to use HybridChunker:**\n",
        "- Most production RAG systems (recommended default)\n",
        "- When you need consistent chunk sizes\n",
        "- Mixed document types in the same system\n",
        "- When embedding model has strict token limits"
      ]
    },
    {
      "cell_type": "code",
      "execution_count": 11,
      "metadata": {
        "colab": {
          "base_uri": "https://localhost:8080/",
          "height": 894
        },
        "id": "HUkuIu58Motk",
        "outputId": "ca8c5db6-e7a5-4c78-faaa-136a09cf7e6c"
      },
      "outputs": [
        {
          "name": "stdout",
          "output_type": "stream",
          "text": [
            "HybridChunker Results:\n",
            "Generated 74 chunks\n"
          ]
        },
        {
          "data": {
            "image/png": "[encoded data removed]",
            "text/plain": [
              "<Figure size 1000x600 with 1 Axes>"
            ]
          },
          "metadata": {},
          "output_type": "display_data"
        },
        {
          "name": "stdout",
          "output_type": "stream",
          "text": [
            "Chunk Analysis Results:\n",
            "Total chunks: 74\n",
            "Average chunk size: 83.8 tokens\n",
            "Minimum chunk size: 8 tokens\n",
            "Maximum chunk size: 506 tokens\n",
            "Standard deviation: 91.4 tokens\n",
            "\n",
            "Reference - Average character length: 296.9 characters\n",
            "\n",
            "Strategy Comparison:\n",
            "HierarchicalChunker: 168 chunks\n",
            "HybridChunker: 74 chunks\n",
            "Reduction: 56.0%\n",
            "\n",
            "Sample HybridChunker Chunk:\n",
            "Text (first 200 chars): bridging the gap between poverty and prosperity...\n",
            "Metadata available - includes structural information\n"
          ]
        }
      ],
      "source": [
        "\n",
        "# Import HybridChunker\n",
        "from docling_core.transforms.chunker.hybrid_chunker import HybridChunker\n",
        "\n",
        "# Create a HybridChunker with default settings\n",
        "hybrid_chunker = HybridChunker(\n",
        "    tokenizer=embeddings_tokenizer,\n",
        ")\n",
        "\n",
        "# Generate chunks\n",
        "hybrid_chunks = list(hybrid_chunker.chunk(doc))\n",
        "\n",
        "# Analyze the results\n",
        "print(f\"HybridChunker Results:\")\n",
        "print(f\"Generated {len(hybrid_chunks)} chunks\")\n",
        "\n",
        "visualize_chunks(\n",
        "    chunks=hybrid_chunks,\n",
        "    title=\"HybridChunker: Structure + Size Aware\",\n",
        "    chunker=hybrid_chunker,\n",
        "    tokenizer=embeddings_tokenizer,\n",
        ")\n",
        "\n",
        "# Compare with HierarchicalChunker\n",
        "print(f\"\\nStrategy Comparison:\")\n",
        "print(f\"HierarchicalChunker: {len(hierarchical_chunks)} chunks\")\n",
        "print(f\"HybridChunker: {len(hybrid_chunks)} chunks\")\n",
        "print(f\"Reduction: {((len(hierarchical_chunks) - len(hybrid_chunks)) / len(hierarchical_chunks) * 100):.1f}%\")\n",
        "\n",
        "# Examine a sample chunk with context\n",
        "sample_hybrid_chunk = hybrid_chunks[0]\n",
        "print(f\"\\nSample HybridChunker Chunk:\")\n",
        "print(f\"Text (first 200 chars): {sample_hybrid_chunk.text[:200]}...\")\n",
        "\n",
        "if hasattr(sample_hybrid_chunk, 'meta'):\n",
        "    print(f\"Metadata available - includes structural information\")"
      ]
    },
    {
      "cell_type": "markdown",
      "metadata": {
        "id": "RpivbK9wRt6Y"
      },
      "source": [
        "## Advanced Configuration and Fine-Tuning\n",
        "\n",
        "Now let's explore advanced configurations to optimize chunking for specific needs. The key is understanding how different parameters affect your results.\n"
      ]
    },
    {
      "cell_type": "markdown",
      "metadata": {
        "id": "ry0lZ7UikxrX"
      },
      "source": [
        "### Understanding the Impact of Chunk Size\n",
        "\n",
        "Different chunk sizes serve different purposes. Let's explore how to configure HybridChunker for specific needs:"
      ]
    },
    {
      "cell_type": "code",
      "execution_count": 12,
      "metadata": {
        "colab": {
          "base_uri": "https://localhost:8080/",
          "height": 775
        },
        "id": "M7oAyRDMRuvG",
        "outputId": "9e4b8f96-444f-48f1-ede0-5887f881c5a5"
      },
      "outputs": [
        {
          "name": "stderr",
          "output_type": "stream",
          "text": [
            "Token indices sequence length is longer than the specified maximum sequence length for this model (669 > 512). Running this sequence through the model will result in indexing errors\n"
          ]
        },
        {
          "name": "stdout",
          "output_type": "stream",
          "text": [
            "Advanced HybridChunker Results (64 token limit):\n",
            "Generated 102 chunks\n"
          ]
        },
        {
          "data": {
            "image/png": "[encoded data removed]",
            "text/plain": [
              "<Figure size 1000x600 with 1 Axes>"
            ]
          },
          "metadata": {},
          "output_type": "display_data"
        },
        {
          "name": "stdout",
          "output_type": "stream",
          "text": [
            "Chunk Analysis Results:\n",
            "Total chunks: 102\n",
            "Average chunk size: 63.3 tokens\n",
            "Minimum chunk size: 8 tokens\n",
            "Maximum chunk size: 128 tokens\n",
            "Standard deviation: 37.0 tokens\n",
            "\n",
            "Reference - Average character length: 215.1 characters\n"
          ]
        }
      ],
      "source": [
        "# Create a more constrained tokenizer for demonstration\n",
        "\n",
        "max_tokens=128  # Smaller chunks for fine-grained retrieval\n",
        "\n",
        "adv_tokenizer = HuggingFaceTokenizer(\n",
        "    tokenizer=AutoTokenizer.from_pretrained(embeddings_model_path),\n",
        "    max_tokens=max_tokens,\n",
        ")\n",
        "\n",
        "adv_chunker = HybridChunker(\n",
        "    tokenizer=adv_tokenizer,\n",
        ")\n",
        "\n",
        "adv_chunks = list(adv_chunker.chunk(doc))\n",
        "\n",
        "print(f\"Advanced HybridChunker Results (64 token limit):\")\n",
        "print(f\"Generated {len(adv_chunks)} chunks\")\n",
        "\n",
        "visualize_chunks(\n",
        "    chunks=adv_chunks,\n",
        "    title=f\"HybridChunker with {max_tokens} Token Limit\",\n",
        "    chunker=adv_chunker,\n",
        "    tokenizer=adv_tokenizer,\n",
        ")"
      ]
    },
    {
      "cell_type": "markdown",
      "metadata": {
        "id": "UcUsjKUunl6Q"
      },
      "source": [
        "### The Power of Contextualization\n",
        "\n",
        "Another one of Docling's advanced features is contextualization - adding relevant surrounding information to chunks for better retrieval. Let's see it in action:\n"
      ]
    },
    {
      "cell_type": "code",
      "execution_count": 13,
      "metadata": {
        "colab": {
          "base_uri": "https://localhost:8080/"
        },
        "id": "WDjWAiSHns_A",
        "outputId": "98e42fe5-3c37-4adf-cbd1-84c38c83e837"
      },
      "outputs": [
        {
          "name": "stdout",
          "output_type": "stream",
          "text": [
            "\n",
            " Understanding Contextualization:\n",
            "Contextualization adds relevant surrounding information to improve retrieval quality.\n",
            "\n",
            "Chunk 0:\n",
            "Original text (8 tokens): bridging the gap between poverty and prosperity...\n",
            "Contextualized (8 tokens): bridging the gap between poverty and prosperity...\n",
            "Context added: 0 tokens\n",
            "\n",
            "Chunk 1:\n",
            "Original text (54 tokens): No one could have predicted the events of 2020. The global COVID-19 pandemic created a dynamic year....\n",
            "Contextualized (72 tokens): A message from Co-Founder, President, and CEO, David Kieser\n",
            "No one could have predicted the events o...\n",
            "Context added: 18 tokens\n",
            "\n",
            "Chunk 2:\n",
            "Original text (104 tokens): All  MFB  locations  remained  open  and  responsive  to  the  need  of  our nonprofit partners. We ...\n",
            "Contextualized (122 tokens): A message from Co-Founder, President, and CEO, David Kieser\n",
            "All  MFB  locations  remained  open  and...\n",
            "Context added: 18 tokens\n",
            "\n",
            "Chunk 3:\n",
            "Original text (103 tokens): • MFB distributed a record amount of food, 37% more than in 2019.\n",
            "· In 2020, we sent a record number...\n",
            "Contextualized (109 tokens): Noteworthy in 2020:\n",
            "• MFB distributed a record amount of food, 37% more than in 2019.\n",
            "· In 2020, we ...\n",
            "Context added: 6 tokens\n",
            "\n",
            "Chunk 4:\n",
            "Original text (63 tokens): We are humbled and thankful. Moving forward, we continue to follow the leading of the Lord as we liv...\n",
            "Contextualized (69 tokens): Noteworthy in 2020:\n",
            "We are humbled and thankful. Moving forward, we continue to follow the leading o...\n",
            "Context added: 6 tokens\n",
            "\n"
          ]
        }
      ],
      "source": [
        "# Demonstrate contextualization - how chunks get additional context\n",
        "print(f\"\\n Understanding Contextualization:\")\n",
        "print(f\"Contextualization adds relevant surrounding information to improve retrieval quality.\\n\")\n",
        "\n",
        "for i, chunk in enumerate(adv_chunks[:5]):\n",
        "    tokens_text = adv_tokenizer.count_tokens(chunk.text)\n",
        "    contextualized = adv_chunker.contextualize(chunk)\n",
        "    tokens_contextualized = adv_tokenizer.count_tokens(contextualized)\n",
        "\n",
        "    print(f\"Chunk {i}:\")\n",
        "    print(f\"Original text ({tokens_text} tokens): {chunk.text[:100]}...\")\n",
        "    print(f\"Contextualized ({tokens_contextualized} tokens): {contextualized[:100]}...\")\n",
        "    print(f\"Context added: {tokens_contextualized - tokens_text} tokens\\n\")"
      ]
    },
    {
      "cell_type": "markdown",
      "metadata": {
        "id": "Kr4AxT0orSwv"
      },
      "source": [
        "---"
      ]
    },
    {
      "cell_type": "markdown",
      "metadata": {
        "id": "vcjWtIFZ368O"
      },
      "source": [
        "## Next Steps and Advanced Topics\n",
        "\n",
        "Congratulations! You now understand the fundamentals of document chunking with Docling. Here's how to continue your journey:\n",
        "\n",
        "### Next Steps:\n",
        "1. **Try with your own documents**: Test different strategies on your specific content\n",
        "2. **Optimize parameters**: Fine-tune chunk sizes based on your embedding model\n",
        "3. **Integrate with vector databases**: Connect your chunking pipeline to Milvus, Pinecone, or similar\n",
        "\n",
        "### Advanced Topics to Explore:\n",
        "- **Custom chunking strategies**: Implement domain-specific chunking rules\n",
        "- **Multi-modal chunking**: Handle documents with images and tables\n",
        "- **Streaming chunking**: Process large document collections efficiently\n",
        "- **Chunk overlap optimization**: Find the sweet spot for your retrieval quality\n",
        "- **Semantic chunking**: Use embeddings to create semantically coherent chunks\n",
        "\n",
        "### Resources for Further Learning:\n",
        "- [Docling Documentation](https://docling-project.github.io/docling/)\n",
        "- [RAG Best Practices Guide](https://python.langchain.com/docs/tutorials/rag/)\n",
        "- [Chunking Strategies Research](https://arxiv.org/search/?query=text+chunking+retrieval)\n"
      ]
    }
  ],
  "metadata": {
    "accelerator": "GPU",
    "colab": {
      "gpuType": "T4",
      "provenance": [],
      "toc_visible": true
    },
    "kernelspec": {
      "display_name": "venv",
      "language": "python",
      "name": "python3"
    },
    "language_info": {
      "codemirror_mode": {
        "name": "ipython",
        "version": 3
      },
      "file_extension": ".py",
      "mimetype": "text/x-python",
      "name": "python",
      "nbconvert_exporter": "python",
      "pygments_lexer": "ipython3",
      "version": "3.12.7"
    }
  },
  "nbformat": 4,
  "nbformat_minor": 0
}
